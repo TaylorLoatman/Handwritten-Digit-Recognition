{
 "cells": [
  {
   "cell_type": "markdown",
   "id": "d73b9892",
   "metadata": {},
   "source": [
    "# Handwritten Digit Recognition Using a Digit Classifier"
   ]
  },
  {
   "cell_type": "markdown",
   "id": "7f5f1674",
   "metadata": {},
   "source": [
    "## Scenario-Based Problem Statement:  \n",
    "\n",
    "You are tasked with creating a digit classifier that can accurately identify handwritten digits from the MNIST dataset. Your goal is to develop a neural network model using PyTorch to achieve this classification task. The dataset consists of images of handwritten digits (0-9), and you need to create a model that can classify them correctly. "
   ]
  },
  {
   "cell_type": "markdown",
   "id": "267e5013",
   "metadata": {},
   "source": [
    "## Directions:  \n",
    "\n",
    "* Import Necessary Libraries  \n",
    "\n",
    "   - Import essential libraries, including matplotlib, numpy, torch, and torchvision, to set up the environment for working with PyTorch and handling image data. \n",
    "\n",
    "\n",
    "* Define Data Transformations  \n",
    "\n",
    "   - Create a transformation pipeline (`transform`) to preprocess the images. \n",
    "\n",
    "   - Transform the images into tensors and normalize pixel values to the range [-1, 1]. \n",
    "\n",
    "\n",
    "* Load MNIST Dataset  \n",
    "\n",
    "   - Load the MNIST dataset for both training and testing, applying the defined transformations. \n",
    "\n",
    "   - Store the datasets in `trainset` and `testset`. \n",
    "\n",
    "\n",
    "* Create Data Loaders  \n",
    "\n",
    "   - Set up data loaders to manage batching and shuffling of data during training and testing. \n",
    "\n",
    "   - Configure a batch size of 64 for both training and testing. \n",
    "\n",
    "   - Enable shuffling for the training set to randomize the order of data. \n",
    " \n",
    " \n",
    "* Define a Function to Display Images  \n",
    "\n",
    "   -  Define a function called `imshow` to display images. \n",
    "\n",
    "   -  Unnormalize the image data (reverse the normalization process). \n",
    "\n",
    "   -  Ensure that images are displayed correctly, especially if they have RGB channels. \n",
    "\n",
    " \n",
    "* Display Random Training Images  \n",
    "\n",
    "   -  Extract a batch of random training images and their corresponding labels. \n",
    "\n",
    "   -  Unnormalize and display the images in a grid format using the `imshow` function. \n",
    "\n",
    "   -  Print the labels of the first 4 images in the batch. \n",
    "\n",
    "\n",
    "* Define a Custom Neural Network Model  \n",
    "\n",
    "   -  Define a custom neural network model called `DigitClassifier` using PyTorch's `nn.Module`. \n",
    "\n",
    "   -  Create two fully connected (linear) layers with ReLU activation. \n",
    "\n",
    "   -  Specify the input size as 28x28 (MNIST image size) and the output size as 10 (for classifying digits 0-9). \n",
    "\n",
    "   -  Implement the `forward` method to define how data flows through the network. \n",
    "\n",
    "  \n",
    "\n",
    "* Define Loss Function and Optimization Algorithm  \n",
    "\n",
    "   -  Define the loss function as the Cross-Entropy Loss using nn.CrossEntropyLoss(), suitable for classification tasks. \n",
    "\n",
    "   -  Choose the Stochastic Gradient Descent (SGD) optimizer as optim.SGD() with a learning rate and momentum to update model weights. \n",
    "\n",
    "\n",
    "* Training Loop  \n",
    "\n",
    "   -  Set the number of training epochs as 10. \n",
    "\n",
    "   -  Iterate through each epoch and initialize the running loss. \n",
    "\n",
    "   -  Loop through batches of training data and labels. \n",
    "\n",
    "   -  Zero the gradients to prevent accumulation using optimizer.zero_grad(). \n",
    "\n",
    "   -  Perform a forward pass, compute the loss, and propagate gradients backward. \n",
    "\n",
    "   -  Update model weights using the optimizer.Accumulate the running loss for each batch. \n",
    "\n",
    "   - Print the average loss for the current epoch. \n",
    "\n",
    "\n",
    "* Evaluate the Model  \n",
    "\n",
    "   - Initialize variables for counting correct predictions and total examples. \n",
    "\n",
    "   - Disable gradient tracking to save memory and computation during evaluation using torch.no_grad().Iterate through the test data loader. \n",
    "\n",
    "   - For each batch, calculate predictions using the trained model and determine the predicted class.Keep track of the correct predictions and the total count. \n",
    "\n",
    "   - Calculate and print the accuracy on the test set. "
   ]
  },
  {
   "cell_type": "markdown",
   "id": "310a0502",
   "metadata": {},
   "source": [
    "### Import Necessary Libraries"
   ]
  },
  {
   "cell_type": "code",
   "execution_count": 1,
   "id": "7ce4fb6a-c317-4883-8eaa-1094480fbbfc",
   "metadata": {},
   "outputs": [
    {
     "name": "stdout",
     "output_type": "stream",
     "text": [
      "Defaulting to user installation because normal site-packages is not writeable\n",
      "Requirement already satisfied: torch in /usr/local/lib/python3.10/site-packages (2.1.1)\n",
      "Requirement already satisfied: filelock in /usr/local/lib/python3.10/site-packages (from torch) (3.13.1)\n",
      "Requirement already satisfied: typing-extensions in /usr/local/lib/python3.10/site-packages (from torch) (4.8.0)\n",
      "Requirement already satisfied: sympy in /usr/local/lib/python3.10/site-packages (from torch) (1.12)\n",
      "Requirement already satisfied: networkx in /usr/local/lib/python3.10/site-packages (from torch) (3.2.1)\n",
      "Requirement already satisfied: jinja2 in /usr/local/lib/python3.10/site-packages (from torch) (3.1.2)\n",
      "Requirement already satisfied: fsspec in /usr/local/lib/python3.10/site-packages (from torch) (2023.10.0)\n",
      "Requirement already satisfied: nvidia-cuda-nvrtc-cu12==12.1.105 in /usr/local/lib/python3.10/site-packages (from torch) (12.1.105)\n",
      "Requirement already satisfied: nvidia-cuda-runtime-cu12==12.1.105 in /usr/local/lib/python3.10/site-packages (from torch) (12.1.105)\n",
      "Requirement already satisfied: nvidia-cuda-cupti-cu12==12.1.105 in /usr/local/lib/python3.10/site-packages (from torch) (12.1.105)\n",
      "Requirement already satisfied: nvidia-cudnn-cu12==8.9.2.26 in /usr/local/lib/python3.10/site-packages (from torch) (8.9.2.26)\n",
      "Requirement already satisfied: nvidia-cublas-cu12==12.1.3.1 in /usr/local/lib/python3.10/site-packages (from torch) (12.1.3.1)\n",
      "Requirement already satisfied: nvidia-cufft-cu12==11.0.2.54 in /usr/local/lib/python3.10/site-packages (from torch) (11.0.2.54)\n",
      "Requirement already satisfied: nvidia-curand-cu12==10.3.2.106 in /usr/local/lib/python3.10/site-packages (from torch) (10.3.2.106)\n",
      "Requirement already satisfied: nvidia-cusolver-cu12==11.4.5.107 in /usr/local/lib/python3.10/site-packages (from torch) (11.4.5.107)\n",
      "Requirement already satisfied: nvidia-cusparse-cu12==12.1.0.106 in /usr/local/lib/python3.10/site-packages (from torch) (12.1.0.106)\n",
      "Requirement already satisfied: nvidia-nccl-cu12==2.18.1 in /usr/local/lib/python3.10/site-packages (from torch) (2.18.1)\n",
      "Requirement already satisfied: nvidia-nvtx-cu12==12.1.105 in /usr/local/lib/python3.10/site-packages (from torch) (12.1.105)\n",
      "Requirement already satisfied: triton==2.1.0 in /usr/local/lib/python3.10/site-packages (from torch) (2.1.0)\n",
      "Requirement already satisfied: nvidia-nvjitlink-cu12 in /usr/local/lib/python3.10/site-packages (from nvidia-cusolver-cu12==11.4.5.107->torch) (12.2.140)\n",
      "Requirement already satisfied: MarkupSafe>=2.0 in /usr/local/lib/python3.10/site-packages (from jinja2->torch) (2.1.3)\n",
      "Requirement already satisfied: mpmath>=0.19 in /usr/local/lib/python3.10/site-packages (from sympy->torch) (1.3.0)\n",
      "\n",
      "\u001b[1m[\u001b[0m\u001b[34;49mnotice\u001b[0m\u001b[1;39;49m]\u001b[0m\u001b[39;49m A new release of pip is available: \u001b[0m\u001b[31;49m23.3.1\u001b[0m\u001b[39;49m -> \u001b[0m\u001b[32;49m24.2\u001b[0m\n",
      "\u001b[1m[\u001b[0m\u001b[34;49mnotice\u001b[0m\u001b[1;39;49m]\u001b[0m\u001b[39;49m To update, run: \u001b[0m\u001b[32;49mpip install --upgrade pip\u001b[0m\n",
      "Note: you may need to restart the kernel to use updated packages.\n"
     ]
    }
   ],
   "source": [
    "pip install torch"
   ]
  },
  {
   "cell_type": "code",
   "execution_count": 2,
   "id": "962d2733",
   "metadata": {},
   "outputs": [],
   "source": [
    "# Import necessary libraries\n",
    "#TODO   # Import for plotting\n",
    "import matplotlib.pyplot as plt\n",
    "#TODO   # Import for numerical operations\n",
    "import numpy as np\n",
    "#TODO  # Import PyTorch\n",
    "import torch \n",
    "#TODO   # Neural network module in PyTorch\n",
    "import torch.nn as nn\n",
    "#TODO   # Optimization algorithms in PyTorch\n",
    "import torch.optim as optim\n",
    "\n",
    "import torchvision  # Computer vision library in PyTorch\n",
    "import torchvision.transforms as transforms  # Data transformation utilities\n"
   ]
  },
  {
   "cell_type": "markdown",
   "id": "3ba9aa40",
   "metadata": {},
   "source": [
    "### Define data transformations"
   ]
  },
  {
   "cell_type": "code",
   "execution_count": 3,
   "id": "030ea08b",
   "metadata": {},
   "outputs": [],
   "source": [
    "# Compose a series of image transformations: Convert to tensor and normalize the pixel values to the range [-1, 1]\n",
    "transform = transforms.Compose([transforms.ToTensor(), transforms.Normalize((0.5,), (0.5,))])"
   ]
  },
  {
   "cell_type": "markdown",
   "id": "8ab98b09",
   "metadata": {},
   "source": [
    "### Load MNIST dataset"
   ]
  },
  {
   "cell_type": "code",
   "execution_count": 5,
   "id": "ed7207c1",
   "metadata": {},
   "outputs": [],
   "source": [
    "# Load the MNIST dataset for training, applying the defined transformations\n",
    "trainset = torchvision.datasets.MNIST(root='./data', train=True, transform=transform, download=True)\n",
    "# Load the MNIST dataset for testing, applying the defined transformations\n",
    "testset = torchvision.datasets.MNIST(root='./data', train=False, transform=transform, download=True)"
   ]
  },
  {
   "cell_type": "markdown",
   "id": "53bac4f7",
   "metadata": {},
   "source": [
    "### Create data loaders"
   ]
  },
  {
   "cell_type": "code",
   "execution_count": 7,
   "id": "8600a6cc",
   "metadata": {},
   "outputs": [
    {
     "name": "stdout",
     "output_type": "stream",
     "text": [
      "torch.Size([64, 1, 28, 28]) torch.Size([64])\n",
      "torch.Size([64, 1, 28, 28]) torch.Size([64])\n"
     ]
    }
   ],
   "source": [
    "# Create data loaders to handle batching and shuffling of data during training and testing\n",
    "# Batch size is set to 64, and data is shuffled for the training set.\n",
    "trainloader = torch.utils.data.DataLoader(trainset, batch_size=64, shuffle=True)\n",
    "# For the testing set, no shuffling is applied as we want to evaluate the model on the original order.\n",
    "#TODO \n",
    "testloader = torch.utils.data.DataLoader(testset, batch_size=64, shuffle=False)\n",
    "# print the trainloader and testloader\n",
    "#TODO \n",
    "for images, labels in trainloader:\n",
    "    print(images.size(), labels.size())\n",
    "    break\n",
    "    \n",
    "for images, labels in testloader:\n",
    "    print(images.size(), labels.size())\n",
    "    break"
   ]
  },
  {
   "cell_type": "markdown",
   "id": "38cbbc6b",
   "metadata": {},
   "source": [
    "**Record Observation:**\n",
    "Both trainloader and testloader are the same size\n"
   ]
  },
  {
   "cell_type": "markdown",
   "id": "bdaed857",
   "metadata": {},
   "source": [
    "### Define a Function to Display Images"
   ]
  },
  {
   "cell_type": "code",
   "execution_count": null,
   "id": "c3d8b663",
   "metadata": {},
   "outputs": [],
   "source": [
    "# Function to display images\n",
    "def imshow(img):\n",
    "    # Unnormalize the image data (since it was previously normalized)\n",
    "    #TODO\n",
    "    std = 0,5\n",
    "    mean = 0.5\n",
    "    img = img * std + mean \n",
    "    \n",
    "    #convert to numpy array \n",
    "    img = img.numpy()\n",
    "    # Check if the image is in RGB format (3 channels) and convert it to RGB if necessary\n",
    "    if len(img.shape) == 3 and img.shape[0] == 3:\n",
    "        img = np.transpose(img, (1, 2, 0))\n",
    "    # Display the image using matplotlib with a grayscale colormap\n",
    "    #TODO "
   ]
  },
  {
   "cell_type": "markdown",
   "id": "c1002649",
   "metadata": {},
   "source": [
    "### Display Random Training Images"
   ]
  },
  {
   "cell_type": "code",
   "execution_count": null,
   "id": "22c5be0c",
   "metadata": {},
   "outputs": [],
   "source": [
    "# Get some random training images\n",
    "dataiter = iter(trainloader)\n",
    "images, labels = next(dataiter)\n",
    "\n",
    "# Show images\n",
    "# Use the imshow function to display a grid of images\n",
    "#TODO \n",
    "# Print the labels of the first 4 images in the batch\n",
    "#TODO "
   ]
  },
  {
   "cell_type": "markdown",
   "id": "713b45a3",
   "metadata": {},
   "source": [
    "### Define a Custom Neural Network Model"
   ]
  },
  {
   "cell_type": "code",
   "execution_count": null,
   "id": "e8153b1f",
   "metadata": {},
   "outputs": [],
   "source": [
    "# Define a custom neural network model for digit classification\n",
    "class DigitClassifier(nn.Module):\n",
    "    def __init__(self):\n",
    "        super(DigitClassifier, self).__init__()\n",
    "        # Define the first fully connected layer with 28*28 input features and 128 output features\n",
    "        self.fc1 = nn.Linear(28 * 28, 128)\n",
    "        # Apply the ReLU activation function to introduce non-linearity\n",
    "        self.relu = nn.ReLU()\n",
    "        # Define the second fully connected layer with 128 input features and 10 output features (10 classes for digits 0-9)\n",
    "        self.fc2 = nn.Linear(128, 10)\n",
    "\n",
    "    def forward(self, x):\n",
    "        # Flatten the input data by reshaping it to have a single dimension\n",
    "        x = x.view(x.size(0), -1)\n",
    "        # Pass the flattened input through the first fully connected layer\n",
    "        x = self.fc1(x)\n",
    "        # Apply the ReLU activation function for x\n",
    "        #TODO \n",
    "        # Pass the result through the second fully connected layer\n",
    "        x = self.fc2(x)\n",
    "        return x\n",
    "\n",
    "# Instantiate the DigitClassifier model\n",
    "model = DigitClassifier()\n"
   ]
  },
  {
   "cell_type": "markdown",
   "id": "9322e32a",
   "metadata": {},
   "source": [
    "### Define Loss Function and Optimization Algorithm"
   ]
  },
  {
   "cell_type": "code",
   "execution_count": null,
   "id": "aeffd58f",
   "metadata": {},
   "outputs": [],
   "source": [
    "# Define the loss function (Cross-Entropy Loss) for classification\n",
    "#TODO \n",
    "\n",
    "# Define the optimization algorithm (Stochastic Gradient Descent) with a learning rate and momentum\n",
    "#TODO "
   ]
  },
  {
   "cell_type": "markdown",
   "id": "f646fb4e",
   "metadata": {},
   "source": [
    "### Training Loop"
   ]
  },
  {
   "cell_type": "code",
   "execution_count": null,
   "id": "6a44ca30",
   "metadata": {},
   "outputs": [],
   "source": [
    "# Training loop\n",
    "#TODO   # Number of times to iterate over the entire dataset\n",
    "for epoch in range(num_epochs):\n",
    "    running_loss = 0.0  # Initialize the running loss for this epoch\n",
    "    for i, data in enumerate(trainloader, 0):\n",
    "        inputs, labels = data  # Get a batch of training data and labels\n",
    "\n",
    "        optimizer.zero_grad()  # Zero the gradients to prevent accumulation\n",
    "\n",
    "        outputs = model(inputs)  # Forward pass: compute predictions\n",
    "        loss = criterion(outputs, labels)  # Compute the loss\n",
    "        loss.backward()  # Backpropagation: compute gradients\n",
    "        optimizer.step()  # Update model weights using the computed gradients\n",
    "\n",
    "        running_loss += loss.item()  # Accumulate the loss for this batch\n",
    "\n",
    "    # Print the average loss for this epoch\n",
    "    #TODO "
   ]
  },
  {
   "cell_type": "markdown",
   "id": "216e4211",
   "metadata": {},
   "source": [
    "**Record Observation:**\n"
   ]
  },
  {
   "cell_type": "markdown",
   "id": "4d185a21",
   "metadata": {},
   "source": [
    "### Evaluate the Model"
   ]
  },
  {
   "cell_type": "code",
   "execution_count": null,
   "id": "645336a1",
   "metadata": {},
   "outputs": [],
   "source": [
    "correct = 0  # Initialize the count of correct predictions\n",
    "total = 0  # Initialize the count of total examples\n",
    "\n",
    "# Disable gradient tracking for evaluation to save memory and computation\n",
    "with torch.no_grad():\n",
    "    # Iterate through the test data loader\n",
    "    for data in testloader:\n",
    "        images, labels = data  # Get a batch of test data and labels\n",
    "\n",
    "        # Forward pass: compute predictions using the trained model\n",
    "        outputs = model(images)\n",
    "\n",
    "        # Calculate the class with the highest probability as the predicted class\n",
    "        _, predicted = torch.max(outputs.data, 1)\n",
    "\n",
    "        total += labels.size(0)  # Increment the total count by the batch size\n",
    "        correct += (predicted == labels).sum().item()  # Count correct predictions\n",
    "\n",
    "# Calculate and print the accuracy on the test set\n",
    "#TODO \n",
    "#TODO \n"
   ]
  },
  {
   "cell_type": "markdown",
   "id": "31ac4aab",
   "metadata": {},
   "source": [
    "**Record Observation:**\n"
   ]
  },
  {
   "cell_type": "code",
   "execution_count": null,
   "id": "4067b505",
   "metadata": {},
   "outputs": [],
   "source": []
  }
 ],
 "metadata": {
  "kernelspec": {
   "display_name": "Python 3 [3.10]",
   "language": "python",
   "name": "python3"
  },
  "language_info": {
   "codemirror_mode": {
    "name": "ipython",
    "version": 3
   },
   "file_extension": ".py",
   "mimetype": "text/x-python",
   "name": "python",
   "nbconvert_exporter": "python",
   "pygments_lexer": "ipython3",
   "version": "3.10.2"
  }
 },
 "nbformat": 4,
 "nbformat_minor": 5
}
